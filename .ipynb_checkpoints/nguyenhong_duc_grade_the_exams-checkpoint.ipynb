{
 "cells": [
  {
   "cell_type": "code",
   "execution_count": 153,
   "id": "c7be72ce-5606-44fe-b176-9eafcb140562",
   "metadata": {},
   "outputs": [],
   "source": [
    "import os\n",
    "import re\n",
    "from statistics import mean, median\n",
    "\n",
    "import pandas as pd\n",
    "import numpy as np\n",
    "\n",
    "d = os.getcwd() + '\\Data Files\\\\'"
   ]
  },
  {
   "cell_type": "markdown",
   "id": "d376df38-5667-4f48-9f3f-265a324a558e",
   "metadata": {},
   "source": [
    "## Task 1"
   ]
  },
  {
   "cell_type": "code",
   "execution_count": 143,
   "id": "d4d758d4-c2ac-4ef5-bc49-bc2e2813c657",
   "metadata": {
    "tags": []
   },
   "outputs": [
    {
     "name": "stdout",
     "output_type": "stream",
     "text": [
      "---------------Task1---------------\n",
      "\n"
     ]
    },
    {
     "name": "stdin",
     "output_type": "stream",
     "text": [
      "Enter file names (with extention):  class2\n"
     ]
    },
    {
     "name": "stdout",
     "output_type": "stream",
     "text": [
      "N00000021,B,A,C,D,C,C,D,D,C,C,D,B,,B,A,C,B,,A,D,A,A,B,D,\n",
      "N00000022,B,A,D,A,C,B,D,D,C,C,D,B,A,B,A,,B,A,A,C,A,A,B,A,D\n",
      "N00000023,,A,D,D,C,B,D,A,C,C,,C,,B,A,C,B,D,A,C,A,A\n",
      "N00000024,C,C,D,D,C,B,,A,C,C,D,B,A,B,,C,B,D,A,C,A,B,B,,D\n",
      "N0000002,B,A,D,D,C,B,D,A,C,D,D,D,A,,A,C,D,,A,C,A,A,B,D,D\n",
      "N00000026,B,C,D,D,C,D,B,A,C,D,D,,A,B,A,C,B,D,,C,A,A,B,D,D\n",
      "NA0000027,B,A,D,D,,B,,A,C,B,D,B,A,,A,C,B,D,A,,A,A,B,D,D\n",
      "N00000028,B,A,D,D,D,B,D,A,C,C,,,A,B,A,,B,D,C,C,A,A,B,C,D\n",
      "N00000029,B,A,D,D,C,A,D,A,C,C,D,B,A,B,A,C,B,,,C,A,A,B,D,D\n",
      "N00000030,A,A,D,D,C,B,D,,C,C,D,B,A,B,A,C,B,B,A,C,A,,B,D,D\n",
      "N00000031,B,,D,D,C,B,D,A,A,C,D,C,A,B,A,C,B,C,A,C,C,A,B,D,D\n",
      "N00000032,B,A,D,D,C,B,D,A,C,C,D,,A,A,A,C,B,D,A,C,,A,B,D,D\n",
      "N00000033,B,A,D,D,C,,D,A,C,B,D,B,A,B,C,C,C,D,A,C,A,,B,D,D\n",
      "N00000034,B,,D,,C,B,A,A,C,C,D,B,A,,A,C,B,A,B,C,A,,B,D,D\n",
      "N00000035,B,A,D,D,B,B,,A,C,,D,B,A,B,A,A,B,D,A,C,A,C,B,D,D,A,A\n",
      "N00000036,B,A,D,D,C,B,D,A,C,B,A,C,A,B,A,C,B,D,A,C,A,A,B,,\n",
      "N00000037,B,A,D,D,C,,D,A,C,C,D,,A,B,A,A,B,D,A,C,,,,D,D\n",
      "N00000038,,A,D,,C,B,D,A,A,C,D,B,A,B,A,C,B,D,,C,A,D,B,D,C\n",
      "N00000039,B,A,D,D,C,A,B,A,C,C,D,B,A,D,A,,C,D,A,B,A,A,B,A,D\n",
      "N00000040,B,A,,D,C,B,D,D,C,C,C,B,A,B,A,C,A,,A,C,A,,B,D,D\n",
      "N00000041,,A,D,D,C,B,D,A,C,C,D,B,A,B,A,C,B,D,A,C,B,A,B,D,D\n",
      "N00000042,B,A,D,D,C,B,D,A,C,C,D,B,A,B,A,C,B,D,A,C,A,A,B,D,D\n",
      "N00000043,C,A,D,D,C,B,D,A,C,C,D,B,A,B,C,C,B,D,A,C,A,,B,D,D\n",
      "N00000044,B,A,D,D,C,B,D,A,C,C,D,B,A,B,A,A,B,D,A,C,D,A,B,D,D\n",
      "N00000045,C,A,A,D,C,B,D,C,,C,D,B,A,B,A,B,B,A,,C,A,A,B,D,D\n",
      "\n",
      "class2 opened successfully\n"
     ]
    }
   ],
   "source": [
    "print('-'*15 + 'Task1' + '-'*15 + '\\n')\n",
    "\n",
    "while True:\n",
    "    try:\n",
    "        file_name = input('Enter file names: ')\n",
    "        file_dir = d + file_name + '.txt'\n",
    "        \n",
    "        if file_name == 'close': #type \"close\" to close the program\n",
    "            break\n",
    "        else:\n",
    "            with open(file_dir, 'r') as f:\n",
    "                print(f.read())\n",
    "\n",
    "            print('\\n' + file_name + ' opened successfully')\n",
    "            break\n",
    "\n",
    "    except:\n",
    "        print('File not found! Please enter the file name again.\\n' )\n",
    "        continue"
   ]
  },
  {
   "cell_type": "markdown",
   "id": "8efd3fe0-b25c-4063-a425-471fcf71c399",
   "metadata": {},
   "source": [
    "## Task 2"
   ]
  },
  {
   "cell_type": "code",
   "execution_count": 144,
   "id": "09ce72e4-ebb7-439a-8b48-eccc3240f9d1",
   "metadata": {},
   "outputs": [
    {
     "name": "stdout",
     "output_type": "stream",
     "text": [
      "\n",
      "---------------Task2---------------\n"
     ]
    }
   ],
   "source": [
    "print('\\n' + '-'*15 + 'Task2' + '-'*15 )\n",
    "\n",
    "with open(file_dir, 'r') as f:\n",
    "    lines = f.readlines()"
   ]
  },
  {
   "cell_type": "code",
   "execution_count": 145,
   "id": "ec1cccdf-86a6-4173-85e1-2a825cd3a549",
   "metadata": {},
   "outputs": [
    {
     "name": "stdout",
     "output_type": "stream",
     "text": [
      "\n",
      "***** REPORT *****\n",
      "- Valid lines:  21\n",
      "- Invalid lines:  4\n",
      "\n",
      "***** LIST OF INVALID LINES *****\n",
      "- Does not contain 26 values: \n",
      "N00000023,,A,D,D,C,B,D,A,C,C,,C,,B,A,C,B,D,A,C,A,A\n",
      "\n",
      "N00000035,B,A,D,D,B,B,,A,C,,D,B,A,B,A,A,B,D,A,C,A,C,B,D,D,A,A\n",
      "\n",
      "- Wrong student ID format: \n",
      "N0000002,B,A,D,D,C,B,D,A,C,D,D,D,A,,A,C,D,,A,C,A,A,B,D,D\n",
      "\n",
      "NA0000027,B,A,D,D,,B,,A,C,B,D,B,A,,A,C,B,D,A,,A,A,B,D,D\n",
      "\n"
     ]
    }
   ],
   "source": [
    "print('\\n' + '*' *5, 'REPORT', '*' *5)\n",
    "\n",
    "valid_lines = 0\n",
    "invalid_lines = 0\n",
    "\n",
    "invalid_con1 = []\n",
    "invalid_con2 = []\n",
    "\n",
    "for i, l in enumerate(lines):\n",
    "    lst = l.split(',')\n",
    "    \n",
    "    con1 = (len(lst)==26) # 26 values separated by a comma\n",
    "    \n",
    "    pattern = re.compile(\"^N[0-9]{8}$\")\n",
    "    s = lst[0]\n",
    "    con2 = bool(re.match(pattern, s)) # Student ID matches the pattern\n",
    "    \n",
    "    if con1 and con2:\n",
    "        valid_lines +=1\n",
    "    else:\n",
    "        invalid_lines += 1\n",
    "        \n",
    "    if not con1:\n",
    "        invalid_con1.append(i)\n",
    "    \n",
    "    if not con2:\n",
    "        invalid_con2.append(i)\n",
    "\n",
    "        \n",
    "print('- Valid lines: ', valid_lines)\n",
    "print('- Invalid lines: ', invalid_lines)\n",
    "if invalid_lines > 0: # Will list out the incorrect lines if there is\n",
    "    print('\\n' + '*' *5, 'LIST OF INVALID LINES', '*' *5)\n",
    "    print('- Does not contain 26 values: ')\n",
    "    for i in invalid_con1:\n",
    "        print(lines[i])\n",
    "\n",
    "    print('- Wrong student ID format: ')\n",
    "    for i in invalid_con2:\n",
    "        print(lines[i])\n"
   ]
  },
  {
   "cell_type": "markdown",
   "id": "3fc7d890-d6a2-4dfa-b2b5-96440340bcee",
   "metadata": {},
   "source": [
    "## Task 3"
   ]
  },
  {
   "cell_type": "code",
   "execution_count": 146,
   "id": "2770ce98-aded-4983-9db6-ab9a46e93fb5",
   "metadata": {},
   "outputs": [
    {
     "name": "stdout",
     "output_type": "stream",
     "text": [
      "\n",
      "---------------Task3---------------\n"
     ]
    }
   ],
   "source": [
    "print('\\n' + '-'*15 + 'Task3' + '-'*15 )"
   ]
  },
  {
   "cell_type": "code",
   "execution_count": 147,
   "id": "0cc19a62-cfcd-4489-8b95-d5841548d93d",
   "metadata": {},
   "outputs": [
    {
     "name": "stdout",
     "output_type": "stream",
     "text": [
      "\n",
      "***** ANALYSIS *****\n",
      "// Only applies to valid lines\n"
     ]
    }
   ],
   "source": [
    "print('\\n' + '*' *5, 'ANALYSIS', '*' *5)\n",
    "print('// Only applies to valid lines')\n",
    "\n",
    "invalid_lines_index = set(invalid_con1 + invalid_con2)\n",
    "valid_lines_list = [l for i,l in enumerate(lines) if i not in invalid_lines_index ]"
   ]
  },
  {
   "cell_type": "code",
   "execution_count": 148,
   "id": "4be053ab-4cf6-43a4-827b-fae3d0d30b8e",
   "metadata": {},
   "outputs": [
    {
     "name": "stdout",
     "output_type": "stream",
     "text": [
      "- Average grade:  78\n",
      "- Highest grade:  100\n",
      "- Lowest grade:  66\n",
      "- Range of grades:  34\n",
      "- Median grade:  76\n"
     ]
    }
   ],
   "source": [
    "answer_key = \"B,A,D,D,C,B,D,A,C,C,D,B,A,B,A,C,B,D,A,C,A,A,B,D,D\"\n",
    "answer_key = answer_key.split(',')\n",
    "\n",
    "grade_list = []\n",
    "\n",
    "for line in valid_lines_list:\n",
    "    grade = 0\n",
    "    \n",
    "    answer = line.split(',')[1:26]\n",
    "    answer[-1] = answer[-1].replace('\\n', '') # remove \\n\n",
    "    \n",
    "    for i,j in zip(answer, answer_key):\n",
    "        if i == '':\n",
    "            grade += 0\n",
    "        elif i == j:\n",
    "            grade +=4\n",
    "        else:\n",
    "            grade +=-1\n",
    "    \n",
    "    grade_list.append(grade)\n",
    "\n",
    "print('- Average grade: ', mean(grade_list))\n",
    "print('- Highest grade: ', max(grade_list))\n",
    "print('- Lowest grade: ', min(grade_list))\n",
    "print('- Range of grades: ', max(grade_list) - min(grade_list))\n",
    "print('- Median grade: ', median(grade_list))"
   ]
  },
  {
   "cell_type": "markdown",
   "id": "cdd090ce-afc2-4c79-aadb-8cf103a3e1bd",
   "metadata": {},
   "source": [
    "## Task 4"
   ]
  },
  {
   "cell_type": "code",
   "execution_count": 149,
   "id": "ba22e621-5f49-4a3a-b99c-b290284c60b9",
   "metadata": {},
   "outputs": [
    {
     "name": "stdout",
     "output_type": "stream",
     "text": [
      "\n",
      "---------------Task4---------------\n",
      "Exporting File\n"
     ]
    }
   ],
   "source": [
    "print('\\n' + '-'*15 + 'Task4' + '-'*15 )\n",
    "print('Exporting File')"
   ]
  },
  {
   "cell_type": "code",
   "execution_count": 150,
   "id": "d5410003-6c5a-45be-baab-3b5cd530bbab",
   "metadata": {},
   "outputs": [],
   "source": [
    "answer_key = \"B,A,D,D,C,B,D,A,C,C,D,B,A,B,A,C,B,D,A,C,A,A,B,D,D\"\n",
    "answer_key = answer_key.split(',')\n",
    "\n",
    "grade_list = []\n",
    "\n",
    "for line in valid_lines_list:\n",
    "    grade = 0\n",
    "    \n",
    "    id = line.split(',')[0]\n",
    "    answer = line.split(',')[1:26]\n",
    "    answer[-1] = answer[-1].replace('\\n', '') # remove \\n\n",
    "    \n",
    "    for i,j in zip(answer, answer_key):\n",
    "        if i == '':\n",
    "            grade += 0\n",
    "        elif i == j:\n",
    "            grade +=4\n",
    "        else:\n",
    "            grade +=-1\n",
    "    \n",
    "    grade_list.append(id + ',' + str(grade))"
   ]
  },
  {
   "cell_type": "code",
   "execution_count": 151,
   "id": "4ec4f37e-073f-495e-b0e9-6195f3a91437",
   "metadata": {},
   "outputs": [],
   "source": [
    "output = os.getcwd() + '\\Data Files\\\\Expected Output\\\\' + file_name + '_grades.txt'\n",
    "os.getcwd() + '\\Data Files\\\\'\n",
    "\n",
    "with open(output, 'w') as o:\n",
    "    for line in grade_list:\n",
    "        o.write(line)\n",
    "        o.write('\\n')"
   ]
  },
  {
   "cell_type": "markdown",
   "id": "b108d355-df74-4142-9613-43b8363cfeb0",
   "metadata": {},
   "source": [
    "## Task 5"
   ]
  },
  {
   "cell_type": "code",
   "execution_count": 152,
   "id": "a9c54ff8-1f87-4a16-8a99-d0bb260812fd",
   "metadata": {},
   "outputs": [
    {
     "name": "stdout",
     "output_type": "stream",
     "text": [
      "\n",
      "---------------Task5---------------\n",
      "With Pandas and Numpy\n"
     ]
    }
   ],
   "source": [
    "print('\\n' + '-'*15 + 'Task5' + '-'*15 )\n",
    "print('With Pandas and Numpy')"
   ]
  },
  {
   "cell_type": "code",
   "execution_count": 154,
   "id": "375858a7-1bbf-43ca-82c4-ee72e8a78293",
   "metadata": {},
   "outputs": [
    {
     "name": "stdin",
     "output_type": "stream",
     "text": [
      "Enter file names (with extention):  class1\n"
     ]
    },
    {
     "name": "stdout",
     "output_type": "stream",
     "text": [
      "\n",
      "class1 opened successfully\n"
     ]
    }
   ],
   "source": [
    "while True:\n",
    "    try:\n",
    "        file_name = input('Enter file names: ')\n",
    "        file_dir = d + file_name + '.txt'\n",
    "        \n",
    "        if file_name == 'close': #type \"close\" to close the program\n",
    "            break\n",
    "        else:\n",
    "            with open(file_dir, 'r') as f2:\n",
    "                lines = f2.readlines()\n",
    "\n",
    "            print('\\n' + file_name + ' opened successfully')\n",
    "            break\n",
    "\n",
    "    except:\n",
    "        print('File not found! Please enter the file name again.\\n' )\n",
    "        continue"
   ]
  },
  {
   "cell_type": "code",
   "execution_count": null,
   "id": "7a9e6b03-bc74-43e4-be5d-ccbbb2878cb0",
   "metadata": {},
   "outputs": [],
   "source": []
  },
  {
   "cell_type": "code",
   "execution_count": null,
   "id": "30bdb419-3d16-4e31-914b-e40ceb91519c",
   "metadata": {},
   "outputs": [],
   "source": []
  },
  {
   "cell_type": "code",
   "execution_count": null,
   "id": "ca18c4b5-2b50-41fd-99dc-fc7f5883c728",
   "metadata": {},
   "outputs": [],
   "source": []
  }
 ],
 "metadata": {
  "kernelspec": {
   "display_name": "Python 3",
   "language": "python",
   "name": "python3"
  },
  "language_info": {
   "codemirror_mode": {
    "name": "ipython",
    "version": 3
   },
   "file_extension": ".py",
   "mimetype": "text/x-python",
   "name": "python",
   "nbconvert_exporter": "python",
   "pygments_lexer": "ipython3",
   "version": "3.8.8"
  }
 },
 "nbformat": 4,
 "nbformat_minor": 5
}
